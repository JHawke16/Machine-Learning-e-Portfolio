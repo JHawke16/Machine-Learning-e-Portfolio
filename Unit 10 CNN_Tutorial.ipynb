{
  "nbformat": 4,
  "nbformat_minor": 0,
  "metadata": {
    "colab": {
      "provenance": [],
      "gpuType": "T4"
    },
    "kernelspec": {
      "name": "python3",
      "display_name": "Python 3"
    },
    "language_info": {
      "name": "python"
    },
    "accelerator": "GPU"
  },
  "cells": [
    {
      "cell_type": "code",
      "execution_count": 7,
      "metadata": {
        "id": "CAcTi3PMlwl2"
      },
      "outputs": [],
      "source": [
        "import numpy as np\n",
        "import matplotlib.pyplot as plt\n",
        "from keras.datasets import mnist\n",
        "from keras.utils import to_categorical\n",
        "from keras.models import Sequential\n",
        "from keras.layers import Dense, Conv2D, MaxPooling2D, Flatten\n",
        "\n",
        "# Loading the MNIST dataset\n",
        "(train_images, train_labels), (test_images, test_labels) = mnist.load_data()\n",
        "\n",
        "# Normalizing the images\n",
        "train_images = train_images.astype('float32') / 255.0\n",
        "test_images = test_images.astype('float32') / 255.0\n",
        "\n",
        "# Reshaping the data to add the channel dimension\n",
        "train_images = np.expand_dims(train_images, -1)\n",
        "test_images = np.expand_dims(test_images, -1)\n",
        "\n",
        "# Converting labels to one-hot encoding\n",
        "train_labels = to_categorical(train_labels, 10)\n",
        "test_labels = to_categorical(test_labels, 10)\n",
        "\n",
        "# Class names for MNIST dataset (digits 0-9)\n",
        "class_names = [str(i) for i in range(10)]\n"
      ]
    },
    {
      "cell_type": "code",
      "source": [
        "# Building a CNN model\n",
        "model = Sequential()\n",
        "model.add(Conv2D(32, (3, 3), activation='relu', input_shape=(28, 28, 1)))\n",
        "model.add(MaxPooling2D((2, 2)))\n",
        "model.add(Conv2D(64, (3, 3), activation='relu'))\n",
        "model.add(MaxPooling2D((2, 2)))\n",
        "model.add(Conv2D(64, (3, 3), activation='relu'))\n",
        "\n",
        "model.add(Flatten())\n",
        "model.add(Dense(64, activation='relu'))\n",
        "model.add(Dense(10, activation='softmax'))\n",
        "\n",
        "model.summary()\n"
      ],
      "metadata": {
        "colab": {
          "base_uri": "https://localhost:8080/"
        },
        "id": "tnq0alWelzgt",
        "outputId": "542198cc-2f74-4a26-a068-1f6429ba6689"
      },
      "execution_count": 8,
      "outputs": [
        {
          "output_type": "stream",
          "name": "stdout",
          "text": [
            "Model: \"sequential_1\"\n",
            "_________________________________________________________________\n",
            " Layer (type)                Output Shape              Param #   \n",
            "=================================================================\n",
            " conv2d_3 (Conv2D)           (None, 26, 26, 32)        320       \n",
            "                                                                 \n",
            " max_pooling2d_2 (MaxPoolin  (None, 13, 13, 32)        0         \n",
            " g2D)                                                            \n",
            "                                                                 \n",
            " conv2d_4 (Conv2D)           (None, 11, 11, 64)        18496     \n",
            "                                                                 \n",
            " max_pooling2d_3 (MaxPoolin  (None, 5, 5, 64)          0         \n",
            " g2D)                                                            \n",
            "                                                                 \n",
            " conv2d_5 (Conv2D)           (None, 3, 3, 64)          36928     \n",
            "                                                                 \n",
            " flatten_1 (Flatten)         (None, 576)               0         \n",
            "                                                                 \n",
            " dense_2 (Dense)             (None, 64)                36928     \n",
            "                                                                 \n",
            " dense_3 (Dense)             (None, 10)                650       \n",
            "                                                                 \n",
            "=================================================================\n",
            "Total params: 93322 (364.54 KB)\n",
            "Trainable params: 93322 (364.54 KB)\n",
            "Non-trainable params: 0 (0.00 Byte)\n",
            "_________________________________________________________________\n"
          ]
        }
      ]
    },
    {
      "cell_type": "code",
      "source": [
        "# Compile the model\n",
        "model.compile(optimizer='adam',\n",
        "              loss='categorical_crossentropy',\n",
        "              metrics=['accuracy'])\n",
        "\n",
        "# Train the model\n",
        "history = model.fit(train_images, train_labels, epochs=10,\n",
        "                    validation_data=(test_images, test_labels))\n"
      ],
      "metadata": {
        "colab": {
          "base_uri": "https://localhost:8080/"
        },
        "id": "jjpHK-9sl1wJ",
        "outputId": "3d3a68f6-ba41-4816-89b2-f0646b949337"
      },
      "execution_count": 9,
      "outputs": [
        {
          "output_type": "stream",
          "name": "stdout",
          "text": [
            "Epoch 1/10\n",
            "1875/1875 [==============================] - 17s 6ms/step - loss: 0.1437 - accuracy: 0.9556 - val_loss: 0.0436 - val_accuracy: 0.9870\n",
            "Epoch 2/10\n",
            "1875/1875 [==============================] - 10s 5ms/step - loss: 0.0469 - accuracy: 0.9858 - val_loss: 0.0375 - val_accuracy: 0.9878\n",
            "Epoch 3/10\n",
            "1875/1875 [==============================] - 8s 4ms/step - loss: 0.0338 - accuracy: 0.9894 - val_loss: 0.0351 - val_accuracy: 0.9881\n",
            "Epoch 4/10\n",
            "1875/1875 [==============================] - 9s 5ms/step - loss: 0.0251 - accuracy: 0.9923 - val_loss: 0.0381 - val_accuracy: 0.9885\n",
            "Epoch 5/10\n",
            "1875/1875 [==============================] - 8s 4ms/step - loss: 0.0207 - accuracy: 0.9936 - val_loss: 0.0316 - val_accuracy: 0.9903\n",
            "Epoch 6/10\n",
            "1875/1875 [==============================] - 8s 4ms/step - loss: 0.0159 - accuracy: 0.9952 - val_loss: 0.0282 - val_accuracy: 0.9914\n",
            "Epoch 7/10\n",
            "1875/1875 [==============================] - 9s 5ms/step - loss: 0.0140 - accuracy: 0.9953 - val_loss: 0.0300 - val_accuracy: 0.9918\n",
            "Epoch 8/10\n",
            "1875/1875 [==============================] - 8s 4ms/step - loss: 0.0119 - accuracy: 0.9962 - val_loss: 0.0354 - val_accuracy: 0.9913\n",
            "Epoch 9/10\n",
            "1875/1875 [==============================] - 8s 4ms/step - loss: 0.0115 - accuracy: 0.9963 - val_loss: 0.0414 - val_accuracy: 0.9890\n",
            "Epoch 10/10\n",
            "1875/1875 [==============================] - 12s 7ms/step - loss: 0.0086 - accuracy: 0.9972 - val_loss: 0.0314 - val_accuracy: 0.9925\n"
          ]
        }
      ]
    },
    {
      "cell_type": "code",
      "source": [
        "# Evaluate the model\n",
        "test_loss, test_acc = model.evaluate(test_images, test_labels, verbose=2)\n",
        "print(f'Test accuracy: {test_acc}')\n",
        "\n",
        "# Predict using the model\n",
        "predictions = model.predict(test_images)\n",
        "for i in range(10):\n",
        "    predicted_label = np.argmax(predictions[i])\n",
        "    true_label = np.argmax(test_labels[i])\n",
        "    print(f\"Image {i}: Predicted label = {predicted_label}, True label = {true_label}\")\n"
      ],
      "metadata": {
        "colab": {
          "base_uri": "https://localhost:8080/"
        },
        "id": "_DjbSc9YmoBX",
        "outputId": "577d98c8-6494-4dde-ed2f-151ec59ac046"
      },
      "execution_count": 10,
      "outputs": [
        {
          "output_type": "stream",
          "name": "stdout",
          "text": [
            "313/313 - 2s - loss: 0.0314 - accuracy: 0.9925 - 2s/epoch - 5ms/step\n",
            "Test accuracy: 0.9925000071525574\n",
            "313/313 [==============================] - 1s 2ms/step\n",
            "Image 0: Predicted label = 7, True label = 7\n",
            "Image 1: Predicted label = 2, True label = 2\n",
            "Image 2: Predicted label = 1, True label = 1\n",
            "Image 3: Predicted label = 0, True label = 0\n",
            "Image 4: Predicted label = 4, True label = 4\n",
            "Image 5: Predicted label = 1, True label = 1\n",
            "Image 6: Predicted label = 4, True label = 4\n",
            "Image 7: Predicted label = 9, True label = 9\n",
            "Image 8: Predicted label = 5, True label = 5\n",
            "Image 9: Predicted label = 9, True label = 9\n"
          ]
        }
      ]
    },
    {
      "cell_type": "code",
      "source": [],
      "metadata": {
        "id": "21VTyJbnnBce"
      },
      "execution_count": null,
      "outputs": []
    }
  ]
}